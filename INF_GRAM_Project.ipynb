{
  "nbformat": 4,
  "nbformat_minor": 0,
  "metadata": {
    "colab": {
      "provenance": [],
      "authorship_tag": "ABX9TyM9XH7SvOpLoetEcZNPDf05",
      "include_colab_link": true
    },
    "kernelspec": {
      "name": "python3",
      "display_name": "Python 3"
    },
    "language_info": {
      "name": "python"
    }
  },
  "cells": [
    {
      "cell_type": "markdown",
      "metadata": {
        "id": "view-in-github",
        "colab_type": "text"
      },
      "source": [
        "<a href=\"https://colab.research.google.com/github/NicolasNgo/INF-GRAM-2022/blob/main/INF_GRAM_Project.ipynb\" target=\"_parent\"><img src=\"https://colab.research.google.com/assets/colab-badge.svg\" alt=\"Open In Colab\"/></a>"
      ]
    },
    {
      "cell_type": "markdown",
      "source": [
        "# **Project: Artificial intelligence programming**\n",
        "\n",
        "Raquel, URENA; Nicolas, NGO\n",
        "\n",
        "### __Objectives:__\n",
        "1. Import and preprocess an unknown dataset\n",
        "2. Give some descriptive statistics of the data\n",
        "3. Compute different model of classification\n",
        "4. Evaluate the models and select the final model\n",
        "\n",
        "### **Context**  \n",
        "For this project, you will have to work on a classification task, more specifically we will work on cardiotocograms (CTG) records. Cardiotocograms are simple options to assess fetal health, allowing healthcare professionals to take action in order to prevent child and maternal mortality. The equipment itself works by sending ultrasound pulses and reading its response, thus shedding light on fetal heart rate (FHR), fetal movements, uterine contractions and more. \n",
        "\n",
        "### **Data**  \n",
        "The provided data, `ctg.csv`, is a dataset of 2126 records of features extracted from Cardiotocogram exams, which were then classified by three expert obstetritians into 3 classes, normal, suspect or pathological. The features extracted from the ctg are the following:\n",
        "\n",
        "* **'baseline value':** FHR baseline (beats per minute)\n",
        "* **'accelerations':** Number of accelerations per second\n",
        "* **'fetal_movement':** Number of fetal movements per second\n",
        "* **'uterine_contraction':** Number of uterine contractions per second\n",
        "* **'light_decelerations':** Number of light decelerations per second\n",
        "* **'sever_decelerations':** Number of severe decelerations per second\n",
        "* **'prolongued_decelerations':**  Number of prolonged decelerations per second\n",
        "* **'abnormal_short_term_variability':** Percentage of time with abnormal short term variability\n",
        "* **'mean_value_of_short_term_variability':** Mean value of short term variability\n",
        "* **'percentage_of_time_with_abnormal_long_term_variability':** Percentage of time with abnormal long term variability\n",
        "* **'mean_value_of_long_term_variability':** Mean value of long term variability\n",
        "* **'histogram_width':** Width of FHR histogram\n",
        "* **'histogram_min':** Minimum (low frequency) of FHR histogram\n",
        "* **'histogram_max':** Maximum (high frequency) of FHR histogram\n",
        "* **'histogram_number_of_peaks':** Number of histogram peaks\n",
        "* **'histogram_number_zeroes':** Number of histogram zeros\n",
        "* **'histogram_mode':** Histogram mode\n",
        "* **'histogram_mean':** Histogram mean\n",
        "* **'histogram_median':** Histogram median\n",
        "* **'histogram_variance':** Histogram variance\n",
        "* **'histogram_tendency':** Histogram tendency\n",
        "* **'fetal_health':** Target feature tagged as 1 (Normal), 2 (Suspect) and 3 (Pathological)\n",
        "\n",
        "\n",
        "### **Expected work**  \n",
        "For this project you will have to build a classification model to predict `fetal_health` values. Be careful that this is a multiclass problem, with 3 classes. To do so, we expect you to build at least 3 machine learning models, elaborate a validation plan, do some hyperparameter tuning if needed and present the performances of your final model. \n",
        "\n",
        "A few preliminary steps are presented here but the choice of the models, validation plan and performance indicators are up to you. You can follows the few proposed tasks to start your project. It is expected from you that you use at least some pandas and scikit functions and some visualization tools. \n",
        "\n",
        "\n",
        "You can download the data by [clicking here](https://amubox.univ-amu.fr/s/Aw3MFHLeGkaWoB6)\n",
        "\n",
        "\n"
      ],
      "metadata": {
        "id": "sol-dWr8wo5z"
      }
    },
    {
      "cell_type": "markdown",
      "source": [
        "# **Task 1: Set your working environment**"
      ],
      "metadata": {
        "id": "um8G0Jgd6HSh"
      }
    },
    {
      "cell_type": "code",
      "execution_count": 2,
      "metadata": {
        "id": "vG8nnJJRokBM"
      },
      "outputs": [],
      "source": [
        "# Import your libraries here"
      ]
    },
    {
      "cell_type": "markdown",
      "source": [
        "# **Task 2: Description of the data**"
      ],
      "metadata": {
        "id": "yUlLxy7f7ZD8"
      }
    },
    {
      "cell_type": "code",
      "source": [
        "# Import the data set in a pandas dataFrame"
      ],
      "metadata": {
        "id": "jS8lxGZD5uP5"
      },
      "execution_count": null,
      "outputs": []
    },
    {
      "cell_type": "code",
      "source": [
        "# Check the very first lines of the DataFrame"
      ],
      "metadata": {
        "id": "oJBnP9hi7n8j"
      },
      "execution_count": null,
      "outputs": []
    },
    {
      "cell_type": "code",
      "source": [
        "# Check the number of rows, columns and the data type of each column. See if there's any mismatch information with the provided data dictionary"
      ],
      "metadata": {
        "id": "s-EV-zgD7q6M"
      },
      "execution_count": null,
      "outputs": []
    },
    {
      "cell_type": "code",
      "source": [
        "# Do a univariate statistical description of the data set; Check the distribution of the target features; Check if there's any missing values"
      ],
      "metadata": {
        "id": "ww7O8hDU8Ax0"
      },
      "execution_count": null,
      "outputs": []
    },
    {
      "cell_type": "code",
      "source": [
        "# Compute the correlation matrix"
      ],
      "metadata": {
        "id": "cJOcBIkq8cO1"
      },
      "execution_count": null,
      "outputs": []
    },
    {
      "cell_type": "markdown",
      "source": [
        "# **Task 3: Explain in details how will you evaluate and compare the considered models, with which indicators, what is your validation plan?**"
      ],
      "metadata": {
        "id": "vclQD6t18qIm"
      }
    },
    {
      "cell_type": "code",
      "source": [],
      "metadata": {
        "id": "pSucmu3J8poV"
      },
      "execution_count": null,
      "outputs": []
    },
    {
      "cell_type": "markdown",
      "source": [
        "# **Task 4: Implement and evaluate the considered models for this classification task**"
      ],
      "metadata": {
        "id": "OSq9Sybh9GAu"
      }
    },
    {
      "cell_type": "markdown",
      "source": [
        "### **Model 1**"
      ],
      "metadata": {
        "id": "Fk1DqeiO9Xz1"
      }
    },
    {
      "cell_type": "code",
      "source": [
        "# Your first model"
      ],
      "metadata": {
        "id": "W7WDHQbQ9dT_"
      },
      "execution_count": null,
      "outputs": []
    },
    {
      "cell_type": "markdown",
      "source": [
        "### **Model 2**"
      ],
      "metadata": {
        "id": "rzz9VLNl9fDu"
      }
    },
    {
      "cell_type": "code",
      "source": [
        "# Your second model"
      ],
      "metadata": {
        "id": "RgdHESl59hdP"
      },
      "execution_count": null,
      "outputs": []
    },
    {
      "cell_type": "markdown",
      "source": [
        "### **Model 3**"
      ],
      "metadata": {
        "id": "SiVOqiqv9jLu"
      }
    },
    {
      "cell_type": "code",
      "source": [
        "# Your third model"
      ],
      "metadata": {
        "id": "jSkht6j89lA_"
      },
      "execution_count": null,
      "outputs": []
    },
    {
      "cell_type": "markdown",
      "source": [
        "## **Task 5: Select your final model and present its performances on the prediction of fetal health status**"
      ],
      "metadata": {
        "id": "AfAwbwTh9m_-"
      }
    }
  ]
}